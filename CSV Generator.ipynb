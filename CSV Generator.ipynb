{
 "cells": [
  {
   "cell_type": "code",
   "execution_count": 15,
   "metadata": {},
   "outputs": [],
   "source": [
    "import pandas as p\n",
    "import random as r"
   ]
  },
  {
   "cell_type": "code",
   "execution_count": 16,
   "metadata": {},
   "outputs": [],
   "source": [
    "#No. of Instance\n",
    "instance=5000\n",
    "\n",
    "#name of the attributes in a list\n",
    "col=['attrib1', 'attrib2', 'attrib3', 'attrib4','sepsislabel']\n",
    "\n",
    "#no. of collumn in a list called index\n",
    "index=[]\n",
    "for i in range (0,instance):\n",
    "    index.append(i)"
   ]
  },
  {
   "cell_type": "code",
   "execution_count": 17,
   "metadata": {},
   "outputs": [],
   "source": [
    "#creating empty list for each attrubute\n",
    "a1=[]\n",
    "a2=[]\n",
    "a3=[]\n",
    "a4=[]\n",
    "a5=[]\n",
    "\n",
    "#getting random value in range for each attribute\n",
    "for i in range (0,instance):\n",
    "    a1.append(r.randint(0,10))\n",
    "    a2.append(r.randint(5,20))\n",
    "    a3.append(r.randint(3,99))\n",
    "    a4.append(r.randint(7,44))\n",
    "    a5.append(r.randint(0,1))\n",
    "\n",
    "#creating blank Dataframe\n",
    "df=p.DataFrame(index=index, columns=col)"
   ]
  },
  {
   "cell_type": "code",
   "execution_count": 18,
   "metadata": {},
   "outputs": [],
   "source": [
    "#passing random lists into the dataframe's feature (collumn)\n",
    "df['attrib1']=a1\n",
    "df['attrib2']=a2\n",
    "df['attrib3']=a3\n",
    "df['attrib4']=a4\n",
    "df['sepsislabel']=a5"
   ]
  },
  {
   "cell_type": "code",
   "execution_count": 19,
   "metadata": {},
   "outputs": [
    {
     "name": "stdout",
     "output_type": "stream",
     "text": [
      "      attrib1  attrib2  attrib3  attrib4  sepsislabel\n",
      "0           9        6       40       32            1\n",
      "1           7       11       92       12            0\n",
      "2           6       13       67       21            1\n",
      "3           9       16       53       35            1\n",
      "4           3       14       26       39            0\n",
      "5           7       17       66        7            1\n",
      "6           6       17       31       33            0\n",
      "7           7       20       76       14            0\n",
      "8           0       18        3        8            0\n",
      "9           9       13       94       10            0\n",
      "10          2       13       59       28            1\n",
      "11          1       17       31       35            0\n",
      "12          7       11       92       44            0\n",
      "13          7        7       79       30            0\n",
      "14          7        5        6       33            0\n",
      "15          1       15       33       30            0\n",
      "16          5       17       53       27            1\n",
      "17          7       10       97       41            0\n",
      "18          5       13       88       38            0\n",
      "19          5        8       41       38            0\n",
      "20          8        6       87       19            0\n",
      "21          3        7       75       32            1\n",
      "22          0        7       42       27            1\n",
      "23          1       16       91       39            1\n",
      "24          8       16       63       26            0\n",
      "25          5       18       61       44            0\n",
      "26          7       13       72       37            0\n",
      "27          6       15       98        9            1\n",
      "28          6       20       82       19            1\n",
      "29          8       17       59       40            0\n",
      "...       ...      ...      ...      ...          ...\n",
      "4970       10        9       37       36            1\n",
      "4971        6       10       66       30            1\n",
      "4972        6       13       89       11            1\n",
      "4973        0       13       22       37            1\n",
      "4974        7       16       31       43            1\n",
      "4975        9       11        3       38            0\n",
      "4976       10       11       32       44            0\n",
      "4977        9       18       97       36            1\n",
      "4978        1       10       42       20            1\n",
      "4979        7       19       60       34            1\n",
      "4980        7       10       80       38            1\n",
      "4981        4       12       98       14            1\n",
      "4982        0       17       56       28            1\n",
      "4983        9       12       96       40            1\n",
      "4984        8       20       85       17            0\n",
      "4985       10       20        9       10            0\n",
      "4986        1       13       19       44            1\n",
      "4987        9       16       62       38            1\n",
      "4988        1       15       55       37            0\n",
      "4989        2       18       44       13            1\n",
      "4990        3       17       68       38            0\n",
      "4991        1       13       12       12            1\n",
      "4992        9       15       25       28            1\n",
      "4993        3        5       75       17            0\n",
      "4994        2        7       51       42            0\n",
      "4995        8       16       52       25            0\n",
      "4996       10       18       62       39            1\n",
      "4997        4       12       82       14            1\n",
      "4998        8       13       77       38            1\n",
      "4999        2       19       80       28            0\n",
      "\n",
      "[5000 rows x 5 columns]\n"
     ]
    }
   ],
   "source": [
    "print(df)"
   ]
  },
  {
   "cell_type": "markdown",
   "metadata": {},
   "source": [
    "# If you run the whole code more than once the .xlsx & .csv will be created each time and the values will be diffrent"
   ]
  },
  {
   "cell_type": "code",
   "execution_count": 20,
   "metadata": {},
   "outputs": [],
   "source": [
    "#exporting Dataframae to xlsx\n",
    "#df.to_excel(\"bunip.xlsx\")"
   ]
  },
  {
   "cell_type": "code",
   "execution_count": 21,
   "metadata": {},
   "outputs": [],
   "source": [
    "#exporting Dataframae to csv\n",
    "df.to_csv(\"df2.csv\")"
   ]
  },
  {
   "cell_type": "code",
   "execution_count": null,
   "metadata": {},
   "outputs": [],
   "source": []
  }
 ],
 "metadata": {
  "kernelspec": {
   "display_name": "Python 3",
   "language": "python",
   "name": "python3"
  },
  "language_info": {
   "codemirror_mode": {
    "name": "ipython",
    "version": 3
   },
   "file_extension": ".py",
   "mimetype": "text/x-python",
   "name": "python",
   "nbconvert_exporter": "python",
   "pygments_lexer": "ipython3",
   "version": "3.7.1"
  }
 },
 "nbformat": 4,
 "nbformat_minor": 2
}
